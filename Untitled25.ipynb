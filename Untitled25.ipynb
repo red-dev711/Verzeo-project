{
 "cells": [
  {
   "cell_type": "code",
   "execution_count": 1,
   "id": "12e437ad",
   "metadata": {},
   "outputs": [],
   "source": [
    "import spacy"
   ]
  },
  {
   "cell_type": "code",
   "execution_count": 2,
   "id": "0442d8a5",
   "metadata": {},
   "outputs": [],
   "source": [
    "import pickle\n",
    "import random\n"
   ]
  },
  {
   "cell_type": "code",
   "execution_count": 3,
   "id": "0338acce",
   "metadata": {},
   "outputs": [
    {
     "data": {
      "text/plain": [
       "('Govardhana K Senior Software Engineer  Bengaluru, Karnataka, Karnataka - Email me on Indeed: indeed.com/r/Govardhana-K/ b2de315d95905b68  Total IT experience 5 Years 6 Months Cloud Lending Solutions INC 4 Month • Salesforce Developer Oracle 5 Years 2 Month • Core Java Developer Languages Core Java, Go Lang Oracle PL-SQL programming, Sales Force Developer with APEX.  Designations & Promotions  Willing to relocate: Anywhere  WORK EXPERIENCE  Senior Software Engineer  Cloud Lending Solutions -  Bangalore, Karnataka -  January 2018 to Present  Present  Senior Consultant  Oracle -  Bangalore, Karnataka -  November 2016 to December 2017  Staff Consultant  Oracle -  Bangalore, Karnataka -  January 2014 to October 2016  Associate Consultant  Oracle -  Bangalore, Karnataka -  November 2012 to December 2013  EDUCATION  B.E in Computer Science Engineering  Adithya Institute of Technology -  Tamil Nadu  September 2008 to June 2012  https://www.indeed.com/r/Govardhana-K/b2de315d95905b68?isid=rex-download&ikw=download-top&co=IN https://www.indeed.com/r/Govardhana-K/b2de315d95905b68?isid=rex-download&ikw=download-top&co=IN   SKILLS  APEX. (Less than 1 year), Data Structures (3 years), FLEXCUBE (5 years), Oracle (5 years), Algorithms (3 years)  LINKS  https://www.linkedin.com/in/govardhana-k-61024944/  ADDITIONAL INFORMATION  Technical Proficiency:  Languages: Core Java, Go Lang, Data Structures & Algorithms, Oracle PL-SQL programming, Sales Force with APEX. Tools: RADTool, Jdeveloper, NetBeans, Eclipse, SQL developer, PL/SQL Developer, WinSCP, Putty Web Technologies: JavaScript, XML, HTML, Webservice  Operating Systems: Linux, Windows Version control system SVN & Git-Hub Databases: Oracle Middleware: Web logic, OC4J Product FLEXCUBE: Oracle FLEXCUBE Versions 10.x, 11.x and 12.x  https://www.linkedin.com/in/govardhana-k-61024944/',\n",
       " {'entities': [(1749, 1755, 'Companies worked at'),\n",
       "   (1696, 1702, 'Companies worked at'),\n",
       "   (1417, 1423, 'Companies worked at'),\n",
       "   (1356, 1793, 'Skills'),\n",
       "   (1209, 1215, 'Companies worked at'),\n",
       "   (1136, 1248, 'Skills'),\n",
       "   (928, 932, 'Graduation Year'),\n",
       "   (858, 889, 'College Name'),\n",
       "   (821, 856, 'Degree'),\n",
       "   (787, 791, 'Graduation Year'),\n",
       "   (744, 750, 'Companies worked at'),\n",
       "   (722, 742, 'Designation'),\n",
       "   (658, 664, 'Companies worked at'),\n",
       "   (640, 656, 'Designation'),\n",
       "   (574, 580, 'Companies worked at'),\n",
       "   (555, 573, 'Designation'),\n",
       "   (470, 493, 'Companies worked at'),\n",
       "   (444, 469, 'Designation'),\n",
       "   (308, 314, 'Companies worked at'),\n",
       "   (234, 240, 'Companies worked at'),\n",
       "   (175, 198, 'Companies worked at'),\n",
       "   (93, 137, 'Email Address'),\n",
       "   (39, 48, 'Location'),\n",
       "   (13, 38, 'Designation'),\n",
       "   (0, 12, 'Name')]})"
      ]
     },
     "execution_count": 3,
     "metadata": {},
     "output_type": "execute_result"
    }
   ],
   "source": [
    "train_data = pickle.load(open('train_data.pkl', 'rb'))\n",
    "train_data[0]\n"
   ]
  },
  {
   "cell_type": "code",
   "execution_count": 30,
   "id": "6d493bcb",
   "metadata": {},
   "outputs": [],
   "source": [
    "nlp = spacy.blank('en')\n",
    "\n",
    "def train_model(train_data):\n",
    "    if 'ner' not in nlp.pipe_names:\n",
    "        ner = nlp.create_pipe('ner')\n",
    "        nlp.add_pipe(ner, last = True)\n",
    "    \n",
    "    for _, annotation in train_data:\n",
    "        for ent in annotation['entities']:\n",
    "            ner.add_label(ent[2])\n",
    "            \n",
    "    \n",
    "    other_pipes = [pipe for pipe in nlp.pipe_names if pipe != 'ner']\n",
    "    with nlp.disable_pipes(*other_pipes):  # only train NER\n",
    "        optimizer = nlp.begin_training()\n",
    "        for itn in range(10):\n",
    "            print(\"Statring iteration \" + str(itn))\n",
    "            random.shuffle(train_data)\n",
    "            losses = {}\n",
    "            index = 0\n",
    "            for text, annotations in train_data:\n",
    "                try:\n",
    "                    nlp.update(\n",
    "                        [text],  # batch of texts\n",
    "                        [annotations],  # batch of annotations\n",
    "                        drop=0.2,  # dropout - make it harder to memorise data\n",
    "                        sgd=optimizer,  # callable to update weights\n",
    "                        losses=losses)\n",
    "                except Exception as e:\n",
    "                    pass\n",
    "                \n",
    "            print(losses)\n",
    "    "
   ]
  },
  {
   "cell_type": "code",
   "execution_count": 31,
   "id": "8a59b0b3",
   "metadata": {
    "scrolled": true
   },
   "outputs": [
    {
     "name": "stdout",
     "output_type": "stream",
     "text": [
      "Statring iteration 0\n",
      "{'ner': 12849.667007756303}\n",
      "Statring iteration 1\n",
      "{'ner': 9135.672787442774}\n",
      "Statring iteration 2\n",
      "{'ner': 12218.261943330564}\n",
      "Statring iteration 3\n",
      "{'ner': 5962.759234057488}\n",
      "Statring iteration 4\n",
      "{'ner': 6984.376047604001}\n",
      "Statring iteration 5\n",
      "{'ner': 7464.385567539543}\n",
      "Statring iteration 6\n",
      "{'ner': 5660.690796557983}\n",
      "Statring iteration 7\n",
      "{'ner': 4766.868107130604}\n",
      "Statring iteration 8\n",
      "{'ner': 6485.084220011915}\n",
      "Statring iteration 9\n",
      "{'ner': 5143.012780885376}\n"
     ]
    }
   ],
   "source": [
    "train_model(train_data)"
   ]
  },
  {
   "cell_type": "code",
   "execution_count": 32,
   "id": "1cce5198",
   "metadata": {},
   "outputs": [],
   "source": [
    "nlp.to_disk('nlp_model')"
   ]
  },
  {
   "cell_type": "code",
   "execution_count": 33,
   "id": "394efe39",
   "metadata": {},
   "outputs": [],
   "source": [
    "nlp_model = spacy.load('nlp_model')"
   ]
  },
  {
   "cell_type": "code",
   "execution_count": 34,
   "id": "e06e24b1",
   "metadata": {},
   "outputs": [
    {
     "data": {
      "text/plain": [
       "(\"Kasturika Borah Team Member - Cisco  Bengaluru, Karnataka - Email me on Indeed: indeed.com/r/Kasturika- Borah/9e71468914b38ee8  • Software Engineer with overall 3+ years of experience in Network Monitoring system tool (EM7, Quicksilver) Database tool (SQL, Maria DB) and reporting tool (Splunk) in all the releases. • Relevant experience as a Test engineer for the releases includes Functional testing as well as regression testing. Testing includes writing test cases, execute them and raise bugs. • Relevant 1+ years of experience in handling releases for EM7 with proper documentation, Power pack creation and Tar creation for Sprint releases. • Creating Splunk reports from last 6 months. • Competent technical person involved in requirement gathering, analysis, design and coding. • Experience in coding Python, SQL, and XML as per the requirement. • Have knowledge in Event generating using traps and Syslog's generator. • Exposure to Agile methodologies using Scrum Works framework, even handled scrum in the team • Strong problem-solver who can design solutions and assist developers with issues. • Excellent debugging and resolution skills. • Good communication and interpersonal skills.  • Working as Software Engineer for Cisco System India Private Ltd under Capgemini India Pvt. Ltd.. From May 25th 2017 till nowl • Working as Software Engineer for Cisco System India Private Ltd under Randstad India Ltd. From Dec 15 2014 till 30th April. • Worked as Data Analyst for Fidelity India Financial Inc. from June 2013 till Oct 2014. • Worked as Billing Analyst for IBM Daksh from March 2013 to June 2013.  Willing to relocate to: Bengaluru, Karnataka  WORK EXPERIENCE  Team Member  Cisco -  October 2017 to Present  Environment: Splunk Technologies: SPL command  Responsibilities • Involvement writing Splunk programming language and designing the report dashboard • Following Agile methodology • Develop the code on the design in splunk. • Unit Testing and code review  Senior developer and tester  https://www.indeed.com/r/Kasturika-Borah/9e71468914b38ee8?isid=rex-download&ikw=download-top&co=IN https://www.indeed.com/r/Kasturika-Borah/9e71468914b38ee8?isid=rex-download&ikw=download-top&co=IN   Cisco -  December 2014 to Present  Environment: EM7 platform, Quicksilver, SQL, oracle Toad Technologies: Python coding, xml coding, SQL query writing  Description Cisco Systems, Inc. (known as Cisco) is an American multinational technology conglomerate headquartered in San José, California, that develops, manufactures, and sells networking hardware, telecommunications equipment, and other high-technology services and products (www.cisco.com)  Responsibilities 1. Developer of individual task on each release by weekly • Need to do coding for new requirement. • Also need to do end to end testing of all the events including Traps and Syslogs. 2. Database and Infrastructure Monitoring and Alerting related to device. 3. Involvement in documentation of release notes and preparation of a Regression testing at the end of each release.  Team Member  Cisco -  December 2014 to December 2017  Environment: INFOVISTA (Vportal) Technologies: MS-Excel (sort, VLOOKUP), PPT  Responsibilities • Involvement in generating performance reports for certain customers at the starting of every month • Gathering the data from the INFOVISTA portal and sort it out as per month in the excel and design the graphs for last consecutive • Responsible for each data uploaded to the excel sheet and reviewing it before delivering  Fidelity national financial -  June 2013 to October 2014  Role: QA and Report handling for the team Technologies: MS-Excel (sort, VLOOKUP), PPT, MS-Outlook  Responsibilities • Involvement in generating performance reports for the team at the end of each day and monthly based • Responsible for each data uploaded to the excel sheet and sending it to the team manager  EDUCATION  Compucom Insitute of Information Technology    rajasthan University  2012  SKILLS  Database (3 years), Python (3 years), Splunk (Less than 1 year), SQL (3 years), xml (3 years)  ADDITIONAL INFORMATION  TECHNICAL SKILLS  • Programming Languages: Python, XML • Database: Maria-DB, sql • Cisco Monitoring Tools: EM7 • Operating Systems: Windows/XP • Reporting Tools: Vportal, Splunk • Application & Web Servers: Sciencelogic (EM7), Syslog sender, Relay server. • Data Structure Knowledge: Intermediate\",\n",
       " {'entities': [(4186, 4191, 'Companies worked at'),\n",
       "   (4121, 4399, 'Skills'),\n",
       "   (3984, 4078, 'Skills'),\n",
       "   (3970, 3974, 'Graduation Year'),\n",
       "   (3948, 3969, 'College Name'),\n",
       "   (3901, 3945, 'College Name'),\n",
       "   (3061, 3066, 'Companies worked at'),\n",
       "   (3048, 3059, 'Designation'),\n",
       "   (2402, 2407, 'Companies worked at'),\n",
       "   (2372, 2377, 'Companies worked at'),\n",
       "   (2208, 2213, 'Companies worked at'),\n",
       "   (1690, 1695, 'Companies worked at'),\n",
       "   (1677, 1688, 'Designation'),\n",
       "   (1638, 1647, 'Location'),\n",
       "   (1361, 1366, 'Companies worked at'),\n",
       "   (1233, 1238, 'Companies worked at'),\n",
       "   (72, 126, 'Email Address'),\n",
       "   (37, 46, 'Location'),\n",
       "   (30, 35, 'Companies worked at'),\n",
       "   (16, 27, 'Designation'),\n",
       "   (0, 15, 'Name')]})"
      ]
     },
     "execution_count": 34,
     "metadata": {},
     "output_type": "execute_result"
    }
   ],
   "source": [
    "train_data[0]"
   ]
  },
  {
   "cell_type": "code",
   "execution_count": 35,
   "id": "06327007",
   "metadata": {},
   "outputs": [
    {
     "name": "stdout",
     "output_type": "stream",
     "text": [
      "NAME                          - Kasturika Borah\n",
      "DESIGNATION                   - Team Member\n",
      "COMPANIES WORKED AT           - Cisco\n",
      "LOCATION                      - Bengaluru\n",
      "EMAIL ADDRESS                 - indeed.com/r/Kasturika- Borah/9e71468914b38ee8\n",
      "DESIGNATION                   - Software Engineer\n",
      "COMPANIES WORKED AT           - Cisco\n",
      "DESIGNATION                   - Software Engineer\n",
      "COMPANIES WORKED AT           - Cisco\n",
      "COMPANIES WORKED AT           - Cisco\n",
      "COMPANIES WORKED AT           - Cisco\n",
      "COLLEGE NAME                  - Compucom Insitute of Information Technology\n",
      "COLLEGE NAME                  - rajasthan University\n",
      "SKILLS                        - Database (3 years), Python (3 years), Splunk (Less than 1 year), SQL (3 years), xml (3 years)\n"
     ]
    }
   ],
   "source": [
    "doc = nlp_model(train_data[0][0])\n",
    "for ent in doc.ents:\n",
    "    print(f'{ent.label_.upper():{30}}- {ent.text}')"
   ]
  },
  {
   "cell_type": "code",
   "execution_count": 36,
   "id": "8f086227",
   "metadata": {},
   "outputs": [
    {
     "name": "stdout",
     "output_type": "stream",
     "text": [
      "Requirement already satisfied: PyMuPDF in c:\\users\\vibhor\\anaconda3\\envs\\chatterbot_example\\lib\\site-packages (1.18.13)\n"
     ]
    }
   ],
   "source": [
    "!pip install PyMuPDF"
   ]
  },
  {
   "cell_type": "code",
   "execution_count": 38,
   "id": "3bfa93f9",
   "metadata": {},
   "outputs": [
    {
     "name": "stdout",
     "output_type": "stream",
     "text": [
      "Alice Clark  AI / Machine Learning    Delhi, India Email me on Indeed  •  20+ years of experience in data handling, design, and development  •  Data Warehouse: Data analysis, star/snow flake scema data modelling and design specific to  data warehousing and business intelligence  •  Database: Experience in database designing, scalability, back-up and recovery, writing and  optimizing SQL code and Stored Procedures, creating functions, views, triggers and indexes.  Cloud platform: Worked on Microsoft Azure cloud services like Document DB, SQL Azure,  Stream Analytics, Event hub, Power BI, Web Job, Web App, Power BI, Azure data lake  analytics(U-SQL)  Willing to relocate anywhere    WORK EXPERIENCE  Software Engineer  Microsoft – Bangalore, Karnataka  January 2000 to Present  1. Microsoft Rewards Live dashboards:  Description: - Microsoft rewards is loyalty program that rewards Users for browsing and shopping  online. Microsoft Rewards members can earn points when searching with Bing, browsing with  Microsoft Edge and making purchases at the Xbox Store, the Windows Store and the Microsoft  Store. Plus, user can pick up bonus points for taking daily quizzes and tours on the Microsoft  rewards website. Rewards live dashboards gives a live picture of usage world-wide and by  markets like US, Canada, Australia, new user registration count, top/bottom performing rewards  offers, orders stats and weekly trends of user activities, orders and new user registrations. the  PBI tiles gets refreshed in different frequencies starting from 5 seconds to 30 minutes.  Technology/Tools used    EDUCATION  Indian Institute of Technology – Mumbai  2001    SKILLS  Machine Learning, Natural Language Processing, and Big Data Handling    ADDITIONAL INFORMATION  Professional Skills  • Excellent analytical, problem solving, communication, knowledge transfer and interpersonal  skills with ability to interact with individuals at all the levels  • Quick learner and maintains cordial relationship with project manager and team members and  good performer both in team and independent job environments  • Positive attitude towards superiors &amp; peers  • Supervised junior developers throughout project lifecycle and provided technical assistance  \n"
     ]
    }
   ],
   "source": [
    "import sys, fitz\n",
    "fname = 'Alice Clark CV.pdf'\n",
    "doc = fitz.open(fname)\n",
    "text = \"\"\n",
    "for page in doc:\n",
    "    text = text + str(page.getText())\n",
    "\n",
    "tx = \" \".join(text.split('\\n'))\n",
    "print(tx)"
   ]
  },
  {
   "cell_type": "code",
   "execution_count": 39,
   "id": "80a0e630",
   "metadata": {},
   "outputs": [
    {
     "name": "stdout",
     "output_type": "stream",
     "text": [
      "NAME                          - Alice Clark\n",
      "LOCATION                      - Delhi\n",
      "DESIGNATION                   - Software Engineer\n",
      "COMPANIES WORKED AT           - Microsoft – Bangalore\n",
      "COMPANIES WORKED AT           - Microsoft\n",
      "COMPANIES WORKED AT           - Microsoft\n",
      "COMPANIES WORKED AT           - Microsoft\n",
      "COMPANIES WORKED AT           - Microsoft\n",
      "COMPANIES WORKED AT           - Microsoft\n",
      "DEGREE                        - Indian Institute of Technology – Mumbai\n",
      "SKILLS                        - Machine Learning, Natural Language Processing, and Big Data Handling    ADDITIONAL INFORMATION  Professional Skills  • Excellent analytical, problem solving, communication, knowledge transfer and interpersonal  skills with ability to interact with individuals at all the levels  • Quick learner and maintains cordial relationship with project manager and team members and  good performer both in team and independent job environments  • Positive attitude towards superiors &amp; peers  • Supervised junior developers throughout project lifecycle and provided technical assistance\n"
     ]
    }
   ],
   "source": [
    "doc = nlp_model(tx)\n",
    "for ent in doc.ents:\n",
    "    print(f'{ent.label_.upper():{30}}- {ent.text}')"
   ]
  },
  {
   "cell_type": "code",
   "execution_count": null,
   "id": "7acc8ad7",
   "metadata": {},
   "outputs": [],
   "source": []
  }
 ],
 "metadata": {
  "kernelspec": {
   "display_name": "Python 3",
   "language": "python",
   "name": "python3"
  },
  "language_info": {
   "codemirror_mode": {
    "name": "ipython",
    "version": 3
   },
   "file_extension": ".py",
   "mimetype": "text/x-python",
   "name": "python",
   "nbconvert_exporter": "python",
   "pygments_lexer": "ipython3",
   "version": "3.6.13"
  }
 },
 "nbformat": 4,
 "nbformat_minor": 5
}
